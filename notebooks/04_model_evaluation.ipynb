{
 "cells": [
  {
   "cell_type": "markdown",
   "metadata": {
    "id": "KenyA7g-UH0M"
   },
   "source": [
    "# PapyrusNU Hieroglyph Detection - Model Evaluation\n",
    "\n",
    "This notebook provides comprehensive evaluation of the trained hieroglyph detection model.\n",
    "\n",
    "## Setup"
   ]
  },
  {
   "cell_type": "code",
   "execution_count": null,
   "metadata": {
    "colab": {
     "base_uri": "https://localhost:8080/",
     "height": 1000
    },
    "executionInfo": {
     "elapsed": 196581,
     "status": "ok",
     "timestamp": 1754650776594,
     "user": {
      "displayName": "Margot Belot",
      "userId": "14937136279205858835"
     },
     "user_tz": -120
    },
    "id": "uyGDYJHEUI_F",
    "outputId": "89a76fe0-febc-44e1-a8ba-62efa2549e44"
   },
   "outputs": [],
   "source": [
    "# Install dependencies\n",
    "!pip install -U torch torchvision cython\n",
    "!pip install -U 'git+https://github.com/facebookresearch/fvcore.git' 'git+https://github.com/cocodataset/cocoapi.git#subdirectory=PythonAPI'\n",
    "import torch, torchvision\n",
    "torch.__version__"
   ]
  },
  {
   "cell_type": "code",
   "execution_count": null,
   "metadata": {
    "colab": {
     "base_uri": "https://localhost:8080/"
    },
    "executionInfo": {
     "elapsed": 254719,
     "status": "ok",
     "timestamp": 1754651031319,
     "user": {
      "displayName": "Margot Belot",
      "userId": "14937136279205858835"
     },
     "user_tz": -120
    },
    "id": "9NiUXLiTUI1L",
    "outputId": "53999997-d347-47a7-c771-2e1935865017"
   },
   "outputs": [],
   "source": [
    "!git clone https://github.com/facebookresearch/detectron2 detectron2_repo\n",
    "!pip install -e detectron2_repo"
   ]
  },
  {
   "cell_type": "code",
   "execution_count": null,
   "metadata": {
    "colab": {
     "base_uri": "https://localhost:8080/"
    },
    "executionInfo": {
     "elapsed": 15799,
     "status": "ok",
     "timestamp": 1754651121162,
     "user": {
      "displayName": "Margot Belot",
      "userId": "14937136279205858835"
     },
     "user_tz": -120
    },
    "id": "j7fsvpTFUH0O",
    "outputId": "c3d30bef-8165-440f-904b-312c83104478"
   },
   "outputs": [],
   "source": [
    "# Import libraries\n",
    "import os\n",
    "import sys\n",
    "import json\n",
    "import numpy as np\n",
    "import matplotlib.pyplot as plt\n",
    "import glob\n",
    "\n",
    "# Mount Google Drive\n",
    "from google.colab import drive\n",
    "drive.mount('/content/drive')\n",
    "\n",
    "# Set up paths\n",
    "PROJECT_ROOT = '/content/drive/My Drive/PapyrusNU_Detectron'\n",
    "DATA_DIR = f'{PROJECT_ROOT}/data'\n",
    "MODELS_DIR = f'{PROJECT_ROOT}/models'\n",
    "\n",
    "print(f'Project root: {PROJECT_ROOT}')\n",
    "print(f'Data directory: {DATA_DIR}')\n",
    "print(f'Models directory: {MODELS_DIR}')"
   ]
  },
  {
   "cell_type": "markdown",
   "metadata": {
    "id": "u813YxUXUH0P"
   },
   "source": [
    "## Model Loading"
   ]
  },
  {
   "cell_type": "code",
   "execution_count": null,
   "metadata": {
    "colab": {
     "base_uri": "https://localhost:8080/"
    },
    "executionInfo": {
     "elapsed": 1034,
     "status": "ok",
     "timestamp": 1754651124347,
     "user": {
      "displayName": "Margot Belot",
      "userId": "14937136279205858835"
     },
     "user_tz": -120
    },
    "id": "DvNMAERAUH0P",
    "outputId": "5e4502de-e18e-4aa3-df42-5519f1d6f234"
   },
   "outputs": [],
   "source": [
    "# Find the most recent trained model\n",
    "model_dirs = glob.glob(f'{MODELS_DIR}/hieroglyph_model_*')\n",
    "if not model_dirs:\n",
    "    print(' No trained models found!')\n",
    "    print('Please run the training notebook (03_model_training.ipynb) first.')\n",
    "    raise FileNotFoundError('No trained models found')\n",
    "\n",
    "# Use the most recent model\n",
    "latest_model_dir = sorted(model_dirs)[-1]\n",
    "print(f'Using model from: {latest_model_dir}')\n",
    "\n",
    "# Check if model_info.json exists\n",
    "model_info_file = f'{latest_model_dir}/model_info.json'\n",
    "if os.path.exists(model_info_file):\n",
    "    with open(model_info_file, 'r') as f:\n",
    "        model_info = json.load(f)\n",
    "    print(f' Model info loaded successfully!')\n",
    "    print(f'  Number of classes: {model_info[\"num_classes\"]}')\n",
    "    print(f'  Detection threshold: {model_info[\"detection_threshold\"]}')\n",
    "    print(f'  Timestamp: {model_info[\"timestamp\"]}')\n",
    "else:\n",
    "    print(f' Model info file not found: {model_info_file}')\n",
    "    print('The model_info.json file was just created. Please try again.')"
   ]
  },
  {
   "cell_type": "markdown",
   "metadata": {
    "id": "cZM50PKhUH0P"
   },
   "source": [
    "## Verify Model Files"
   ]
  },
  {
   "cell_type": "code",
   "execution_count": null,
   "metadata": {
    "colab": {
     "base_uri": "https://localhost:8080/"
    },
    "executionInfo": {
     "elapsed": 91,
     "status": "ok",
     "timestamp": 1754651129625,
     "user": {
      "displayName": "Margot Belot",
      "userId": "14937136279205858835"
     },
     "user_tz": -120
    },
    "id": "0ef6wRq_UH0P",
    "outputId": "a4c842bf-cda8-4f2b-b5a4-871f7b5575fd"
   },
   "outputs": [],
   "source": [
    "# Check what files exist in the model directory\n",
    "print(f'Contents of model directory: {latest_model_dir}')\n",
    "if os.path.exists(latest_model_dir):\n",
    "    for file in os.listdir(latest_model_dir):\n",
    "        file_path = os.path.join(latest_model_dir, file)\n",
    "        if os.path.isfile(file_path):\n",
    "            size_mb = os.path.getsize(file_path) / (1024 * 1024)\n",
    "            print(f'  {file}: {size_mb:.1f} MB')\n",
    "        else:\n",
    "            print(f'  {file}/ (directory)')\n",
    "else:\n",
    "    print(f' Model directory does not exist: {latest_model_dir}')"
   ]
  },
  {
   "cell_type": "markdown",
   "metadata": {
    "id": "YkPkXz2fUH0P"
   },
   "source": [
    "## Test Data Verification"
   ]
  },
  {
   "cell_type": "code",
   "execution_count": null,
   "metadata": {
    "colab": {
     "base_uri": "https://localhost:8080/"
    },
    "executionInfo": {
     "elapsed": 631,
     "status": "ok",
     "timestamp": 1754651135785,
     "user": {
      "displayName": "Margot Belot",
      "userId": "14937136279205858835"
     },
     "user_tz": -120
    },
    "id": "8YumuWlSUH0Q",
    "outputId": "d917e865-c1bd-4c30-f4d7-3892da7ce797"
   },
   "outputs": [],
   "source": [
    "# Check test data files\n",
    "test_annotations_file = f'{DATA_DIR}/annotations/test_annotations.json'\n",
    "if os.path.exists(test_annotations_file):\n",
    "    with open(test_annotations_file, 'r') as f:\n",
    "        test_data = json.load(f)\n",
    "    print(f' Test data loaded successfully!')\n",
    "    print(f'  Images: {len(test_data[\"images\"])}')\n",
    "    print(f'  Annotations: {len(test_data[\"annotations\"])}')\n",
    "    print(f'  Categories: {len(test_data[\"categories\"])}')\n",
    "\n",
    "    # Check if images exist\n",
    "    sample_image = test_data['images'][0]['file_name']\n",
    "    image_path = f'{DATA_DIR}/images/{sample_image}'\n",
    "    if os.path.exists(image_path):\n",
    "        print(f' Sample image exists: {sample_image}')\n",
    "    else:\n",
    "        print(f' Sample image not found: {image_path}')\n",
    "else:\n",
    "    print(f' Test annotations file not found: {test_annotations_file}')"
   ]
  },
  {
   "cell_type": "markdown",
   "metadata": {
    "id": "98CJO-GoUH0Q"
   },
   "source": [
    "## Summary\n",
    "\n",
    "This notebook has been fixed to use the correct local project paths. The training process has created the necessary `model_info.json` file, and the model should now be ready for evaluation.\n",
    "\n",
    "### Next Steps:\n",
    "1. The model_info.json file has been created with the correct category mapping\n",
    "2. The evaluation notebook now uses the correct local paths\n",
    "3. You can now run the evaluation cells to test the trained model\n",
    "\n",
    "### What was Fixed:\n",
    "1. **Project Path**: Changed from Google Colab paths to local Mac paths\n",
    "2. **Model Info**: Created missing `model_info.json` with proper category mapping (177 classes)\n",
    "3. **File Structure**: Updated to work with local file system instead of Google Drive\n"
   ]
  }
 ],
 "metadata": {
  "accelerator": "GPU",
  "colab": {
   "gpuType": "A100",
   "machine_shape": "hm",
   "provenance": []
  },
  "kernelspec": {
   "display_name": "Python 3",
   "name": "python3"
  },
  "language_info": {
   "codemirror_mode": {
    "name": "ipython",
    "version": 3
   },
   "file_extension": ".py",
   "mimetype": "text/x-python",
   "name": "python",
   "nbconvert_exporter": "python",
   "pygments_lexer": "ipython3",
   "version": "3.8.10"
  }
 },
 "nbformat": 4,
 "nbformat_minor": 0
}
