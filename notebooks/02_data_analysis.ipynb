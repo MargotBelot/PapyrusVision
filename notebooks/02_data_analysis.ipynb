{
 "cells": [
  {
   "cell_type": "markdown",
   "metadata": {
    "id": "ajUe5QDMsHmn"
   },
   "source": [
    "# PapyrusVision Hieroglyph Detection - Exploratory Data Analysis\n",
    "\n",
    "This notebook provides a deep dive into the hieroglyph dataset, focusing on detailed analysis and visualization to inform our modeling strategy.\n",
    "\n",
    "## Objectives:\n",
    "1. Load the pre-processed and split data.\n",
    "2. Perform statistical analysis of annotations.\n",
    "3. Create detailed visualizations for:\n",
    "   - Bounding box characteristics (size, aspect ratio).\n",
    "   - Spatial distribution of hieroglyphs on the papyrus.\n",
    "   - Class balance and relationships.\n",
    "4. Generate insights to guide data augmentation and model configuration.\n",
    "\n",
    "## Setup"
   ]
  },
  {
   "cell_type": "code",
   "execution_count": null,
   "metadata": {
    "colab": {
     "base_uri": "https://localhost:8080/",
     "height": 1000
    },
    "executionInfo": {
     "elapsed": 193203,
     "status": "ok",
     "timestamp": 1754589901820,
     "user": {
      "displayName": "Margot Belot",
      "userId": "14937136279205858835"
     },
     "user_tz": -120
    },
    "id": "plLQJ949sHmp",
    "outputId": "3949a2d8-3634-4066-902c-a63d909e0de7"
   },
   "outputs": [],
   "source": [
    "# install dependencies\n",
    "!pip install -U torch torchvision cython\n",
    "!pip install -U 'git+https://github.com/facebookresearch/fvcore.git' 'git+https://github.com/cocodataset/cocoapi.git#subdirectory=PythonAPI'\n",
    "import torch, torchvision\n",
    "torch.__version__"
   ]
  },
  {
   "cell_type": "code",
   "execution_count": null,
   "metadata": {
    "colab": {
     "base_uri": "https://localhost:8080/"
    },
    "executionInfo": {
     "elapsed": 256346,
     "status": "ok",
     "timestamp": 1754590158169,
     "user": {
      "displayName": "Margot Belot",
      "userId": "14937136279205858835"
     },
     "user_tz": -120
    },
    "id": "5TbVd0MIsM1Z",
    "outputId": "e612f0a9-8452-49fd-c332-0f039841fbea"
   },
   "outputs": [],
   "source": [
    "!git clone https://github.com/facebookresearch/detectron2 detectron2_repo\n",
    "!pip install -e detectron2_repo"
   ]
  },
  {
   "cell_type": "code",
   "execution_count": null,
   "metadata": {
    "colab": {
     "base_uri": "https://localhost:8080/"
    },
    "executionInfo": {
     "elapsed": 3761,
     "status": "ok",
     "timestamp": 1754590214561,
     "user": {
      "displayName": "Margot Belot",
      "userId": "14937136279205858835"
     },
     "user_tz": -120
    },
    "id": "MokIYmSvsTkH",
    "outputId": "0a576dac-6151-4344-b634-90cd544a7734"
   },
   "outputs": [],
   "source": [
    "import subprocess\n",
    "import sys\n",
    "import torch\n",
    "\n",
    "# Check CUDA version to pick the correct Detectron2 wheel\n",
    "cuda_version = torch.version.cuda\n",
    "print(f\"Detected CUDA version: {cuda_version}\")\n",
    "\n",
    "# Install other required packages that are not included with the detectron2 installation command\n",
    "print(\"\\nInstalling other required packages...\")\n",
    "other_packages = [\n",
    "    'opencv-python-headless',\n",
    "    'matplotlib>=3.3.0',\n",
    "    'seaborn>=0.11.0',\n",
    "    'plotly>=5.0.0',\n",
    "    'pandas>=1.3.0',\n",
    "    'scikit-learn>=1.0.0',\n",
    "    'kaleido>=0.2.1',\n",
    "    'pycocotools',\n",
    "    'pillow>=8.0.0',\n",
    "    'numpy',\n",
    "    'tqdm',\n",
    "    'ipywidgets'\n",
    "]\n",
    "\n",
    "try:\n",
    "    subprocess.check_call([sys.executable, '-m', 'pip', 'install', '-q'] + other_packages)\n",
    "    print(\" All other packages installed successfully!\")\n",
    "except subprocess.CalledProcessError as e:\n",
    "    print(f\" Failed to install other packages: {e}\")\n",
    "except Exception as e:\n",
    "    print(f\" Installation of other packages failed: {e}\")"
   ]
  },
  {
   "cell_type": "code",
   "execution_count": null,
   "metadata": {
    "colab": {
     "base_uri": "https://localhost:8080/"
    },
    "executionInfo": {
     "elapsed": 1253,
     "status": "ok",
     "timestamp": 1754590288591,
     "user": {
      "displayName": "Margot Belot",
      "userId": "14937136279205858835"
     },
     "user_tz": -120
    },
    "id": "szkgkF8gsHmp",
    "outputId": "2e86e7dd-f9af-4964-df0f-82b484126309"
   },
   "outputs": [],
   "source": [
    "# Import libraries\n",
    "import os\n",
    "import json\n",
    "import numpy as np\n",
    "import matplotlib.pyplot as plt\n",
    "import seaborn as sns\n",
    "import cv2\n",
    "from PIL import Image\n",
    "import pandas as pd\n",
    "from pathlib import Path\n",
    "from google.colab import drive, files\n",
    "import zipfile\n",
    "import shutil\n",
    "import plotly.express as px\n",
    "\n",
    "# Mount Google Drive\n",
    "from google.colab import drive\n",
    "drive.mount('/content/drive')\n",
    "\n",
    "# Set up paths\n",
    "PROJECT_ROOT = '/content/drive/My Drive/PapyrusNU_Detectron'\n",
    "\n",
    "DATA_DIR = f'{PROJECT_ROOT}/data'\n",
    "SCRIPTS_DIR = f'{PROJECT_ROOT}/scripts'\n",
    "ANNOTATIONS_DIR = f'{DATA_DIR}/annotations'\n",
    "ANALYSIS_PLOTS_DIR = f'{DATA_DIR}/analysis_plots'\n",
    "os.makedirs(ANALYSIS_PLOTS_DIR, exist_ok=True)\n",
    "\n",
    "# Add scripts to path\n",
    "sys.path.append(SCRIPTS_DIR)"
   ]
  },
  {
   "cell_type": "code",
   "execution_count": null,
   "metadata": {
    "colab": {
     "base_uri": "https://localhost:8080/"
    },
    "executionInfo": {
     "elapsed": 61,
     "status": "ok",
     "timestamp": 1754590237999,
     "user": {
      "displayName": "Margot Belot",
      "userId": "14937136279205858835"
     },
     "user_tz": -120
    },
    "id": "90ZdrZ5XsiHA",
    "outputId": "25c322f8-e3bd-46e9-ff38-51ff6a4b3dfc"
   },
   "outputs": [],
   "source": [
    "print(\"Current system path:\")\n",
    "for path in sys.path:\n",
    "    print(path)\n",
    "\n",
    "print(\"\\nContents of scripts directory:\")\n",
    "scripts_dir = '/content/drive/My Drive/PapyrusNU_Detectron/scripts'\n",
    "if os.path.exists(scripts_dir):\n",
    "    for item in os.listdir(scripts_dir):\n",
    "        print(item)\n",
    "else:\n",
    "    print(f\"Directory not found: {scripts_dir}\")"
   ]
  },
  {
   "cell_type": "code",
   "execution_count": null,
   "metadata": {
    "colab": {
     "base_uri": "https://localhost:8080/"
    },
    "executionInfo": {
     "elapsed": 3013,
     "status": "ok",
     "timestamp": 1754590243379,
     "user": {
      "displayName": "Margot Belot",
      "userId": "14937136279205858835"
     },
     "user_tz": -120
    },
    "id": "eIayW8O9sHmq",
    "outputId": "9b769718-a81f-4d25-bfe9-4f25a291390f"
   },
   "outputs": [],
   "source": [
    "# Import custom utilities\n",
    "from dataset_utils import HieroglyphDatasetUtils\n",
    "from visualization import HieroglyphVisualizer\n",
    "\n",
    "print(\"Custom utilities imported successfully.\")"
   ]
  },
  {
   "cell_type": "markdown",
   "metadata": {
    "id": "zVxXw4FqsHmq"
   },
   "source": [
    "## Data Loading\n",
    "\n",
    "Load the full, unsplit dataset for a complete overview, as well as the training data split from the previous notebook."
   ]
  },
  {
   "cell_type": "code",
   "execution_count": null,
   "metadata": {
    "colab": {
     "base_uri": "https://localhost:8080/"
    },
    "executionInfo": {
     "elapsed": 2209,
     "status": "ok",
     "timestamp": 1754590248041,
     "user": {
      "displayName": "Margot Belot",
      "userId": "14937136279205858835"
     },
     "user_tz": -120
    },
    "id": "15_-S_fesHmq",
    "outputId": "9a15f062-5d5f-431a-c545-d3f8bccd18d9"
   },
   "outputs": [],
   "source": [
    "# Load the full dataset annotations\n",
    "full_annotation_file = f'{ANNOTATIONS_DIR}/annotations.json'\n",
    "train_annotation_file = f'{ANNOTATIONS_DIR}/train_annotations.json'\n",
    "\n",
    "if not os.path.exists(full_annotation_file):\n",
    "    print(\"Error: Annotation files not found. Please run the data preparation notebook first.\")\n",
    "else:\n",
    "    dataset_utils = HieroglyphDatasetUtils(full_annotation_file)\n",
    "    with open(train_annotation_file, 'r') as f:\n",
    "        train_data = json.load(f)\n",
    "    print(\"Datasets loaded successfully.\")"
   ]
  },
  {
   "cell_type": "markdown",
   "metadata": {
    "id": "RstFsA6CsHmq"
   },
   "source": [
    "## Annotation Analysis as DataFrame\n",
    "\n",
    "For deeper analysis, convert the annotations into a Pandas DataFrame."
   ]
  },
  {
   "cell_type": "code",
   "execution_count": null,
   "metadata": {
    "colab": {
     "base_uri": "https://localhost:8080/",
     "height": 591
    },
    "executionInfo": {
     "elapsed": 437,
     "status": "ok",
     "timestamp": 1754590251218,
     "user": {
      "displayName": "Margot Belot",
      "userId": "14937136279205858835"
     },
     "user_tz": -120
    },
    "id": "UN91kKi6sHmq",
    "outputId": "42d2bbd5-b33d-40d7-d896-61160a9fc418"
   },
   "outputs": [],
   "source": [
    "# Convert annotations to a Pandas DataFrame\n",
    "annotations_df = pd.DataFrame(dataset_utils.annotations)\n",
    "\n",
    "# Enrich DataFrame with category names and bbox details\n",
    "annotations_df['category_name'] = annotations_df['category_id'].apply(lambda x: dataset_utils.categories[x]['name'])\n",
    "annotations_df['bbox_x'] = annotations_df['bbox'].apply(lambda x: x[0])\n",
    "annotations_df['bbox_y'] = annotations_df['bbox'].apply(lambda x: x[1])\n",
    "annotations_df['bbox_width'] = annotations_df['bbox'].apply(lambda x: x[2])\n",
    "annotations_df['bbox_height'] = annotations_df['bbox'].apply(lambda x: x[3])\n",
    "annotations_df['aspect_ratio'] = annotations_df['bbox_width'] / annotations_df['bbox_height']\n",
    "annotations_df['bbox_center_x'] = annotations_df['bbox_x'] + annotations_df['bbox_width'] / 2\n",
    "annotations_df['bbox_center_y'] = annotations_df['bbox_y'] + annotations_df['bbox_height'] / 2\n",
    "annotations_df['area'] = annotations_df['bbox_width'] * annotations_df['bbox_height']\n",
    "\n",
    "print(\"DataFrame created with annotation details:\")\n",
    "display(annotations_df.head())"
   ]
  },
  {
   "cell_type": "markdown",
   "metadata": {
    "id": "ThrvYNiKsHmq"
   },
   "source": [
    "## Bounding Box Analysis"
   ]
  },
  {
   "cell_type": "code",
   "execution_count": null,
   "metadata": {
    "colab": {
     "base_uri": "https://localhost:8080/",
     "height": 738
    },
    "executionInfo": {
     "elapsed": 2365,
     "status": "ok",
     "timestamp": 1754590296582,
     "user": {
      "displayName": "Margot Belot",
      "userId": "14937136279205858835"
     },
     "user_tz": -120
    },
    "id": "5_94DlNssHmq",
    "outputId": "b90eebc8-ad4a-4f9b-acfe-6472baf0929c"
   },
   "outputs": [],
   "source": [
    "# Bounding Box Size vs. Aspect Ratio\n",
    "fig = px.scatter(\n",
    "    annotations_df,\n",
    "    x='area',\n",
    "    y='aspect_ratio',\n",
    "    color='category_name',\n",
    "    hover_data=['category_name', 'bbox_width', 'bbox_height'],\n",
    "    log_x=True,\n",
    "    log_y=True,\n",
    "    title='Hieroglyph Size (Area) vs. Aspect Ratio (Log Scale)'\n",
    ")\n",
    "fig.update_layout(showlegend=False)\n",
    "fig.show()\n",
    "fig.write_html(f'{ANALYSIS_PLOTS_DIR}/size_vs_aspect_ratio.html')"
   ]
  },
  {
   "cell_type": "code",
   "execution_count": null,
   "metadata": {
    "colab": {
     "base_uri": "https://localhost:8080/",
     "height": 569
    },
    "executionInfo": {
     "elapsed": 558,
     "status": "ok",
     "timestamp": 1754590305534,
     "user": {
      "displayName": "Margot Belot",
      "userId": "14937136279205858835"
     },
     "user_tz": -120
    },
    "id": "BKAFCpGysHmr",
    "outputId": "00acec0b-b1b6-4102-b91a-7c692c970417"
   },
   "outputs": [],
   "source": [
    "# Distribution of Annotation Sizes (Area)\n",
    "plt.figure(figsize=(12, 6))\n",
    "sns.histplot(data=annotations_df, x='area', bins=50, kde=True, log_scale=True)\n",
    "plt.title('Distribution of Annotation Areas (Log Scale)')\n",
    "plt.xlabel('Area (pixels²)')\n",
    "plt.ylabel('Number of Annotations')\n",
    "plt.grid(True, which=\"both\", ls=\"--\", c='0.7')\n",
    "plt.savefig(f'{ANALYSIS_PLOTS_DIR}/area_distribution.png')\n",
    "plt.show()"
   ]
  },
  {
   "cell_type": "markdown",
   "metadata": {
    "id": "dAZZ2pAvsHmr"
   },
   "source": [
    "## Spatial Distribution Analysis"
   ]
  },
  {
   "cell_type": "code",
   "execution_count": null,
   "metadata": {
    "colab": {
     "base_uri": "https://localhost:8080/",
     "height": 795
    },
    "executionInfo": {
     "elapsed": 3361,
     "status": "ok",
     "timestamp": 1754590312460,
     "user": {
      "displayName": "Margot Belot",
      "userId": "14937136279205858835"
     },
     "user_tz": -120
    },
    "id": "I48MZrG4sHmr",
    "outputId": "614d99d5-8862-4c0c-e419-46a35391c98e"
   },
   "outputs": [],
   "source": [
    "# Spatial Heatmap of Hieroglyph Locations\n",
    "image_info = list(dataset_utils.images.values())[0]\n",
    "img_width, img_height = image_info['width'], image_info['height']\n",
    "\n",
    "plt.figure(figsize=(16, 9))\n",
    "sns.kdeplot(data=annotations_df, x='bbox_center_x', y='bbox_center_y',\n",
    "            fill=True, cmap=\"rocket_r\", thresh=0.05, levels=100,\n",
    "            bw_adjust=0.2)\n",
    "plt.title('Spatial Heatmap of Hieroglyph Annotations')\n",
    "plt.xlim(0, img_width)\n",
    "plt.ylim(img_height, 0)\n",
    "plt.xlabel('Image Width (pixels)')\n",
    "plt.ylabel('Image Height (pixels)')\n",
    "plt.gca().set_aspect('equal', adjustable='box')\n",
    "plt.savefig(f'{ANALYSIS_PLOTS_DIR}/spatial_heatmap.png')\n",
    "plt.show()"
   ]
  },
  {
   "cell_type": "markdown",
   "metadata": {
    "id": "wzo_RNuKsHmr"
   },
   "source": [
    "This heatmap shows where hieroglyphs are concentrated on the papyrus. We see distinct columns of text, which is expected."
   ]
  },
  {
   "cell_type": "markdown",
   "metadata": {
    "id": "xRS2iON7sHmr"
   },
   "source": [
    "## Advanced Class Analysis"
   ]
  },
  {
   "cell_type": "code",
   "execution_count": null,
   "metadata": {
    "colab": {
     "base_uri": "https://localhost:8080/",
     "height": 542
    },
    "executionInfo": {
     "elapsed": 225,
     "status": "ok",
     "timestamp": 1754590317069,
     "user": {
      "displayName": "Margot Belot",
      "userId": "14937136279205858835"
     },
     "user_tz": -120
    },
    "id": "F6PKQLc-sHmr",
    "outputId": "4d62fbf7-1993-4ba1-82a7-a5a06c14b42e"
   },
   "outputs": [],
   "source": [
    "annotations_df['gardiner_series'] = annotations_df['category_name'].str[0] # e.g., 'A' from 'A1'\n",
    "\n",
    "fig = px.sunburst(annotations_df, path=['gardiner_series', 'category_name'],\n",
    "                  title='Interactive Sunburst of Hieroglyph Categories')\n",
    "fig.show()\n",
    "fig.write_html(f'{ANALYSIS_PLOTS_DIR}/class_sunburst_chart.html')"
   ]
  },
  {
   "cell_type": "code",
   "execution_count": null,
   "metadata": {
    "colab": {
     "base_uri": "https://localhost:8080/",
     "height": 642
    },
    "executionInfo": {
     "elapsed": 579,
     "status": "ok",
     "timestamp": 1754590323790,
     "user": {
      "displayName": "Margot Belot",
      "userId": "14937136279205858835"
     },
     "user_tz": -120
    },
    "id": "DnnjUhr6sHmr",
    "outputId": "3a18e209-c078-4ab0-8032-4e946457823d"
   },
   "outputs": [],
   "source": [
    "# Box plot of area by Gardiner series\n",
    "plt.figure(figsize=(18, 8))\n",
    "sorted_series = annotations_df.groupby('gardiner_series')['area'].median().sort_values().index\n",
    "sns.boxplot(data=annotations_df, x='gardiner_series', y='area', order=sorted_series, showfliers=False)\n",
    "plt.title('Annotation Area by Gardiner Series (Outliers Removed)')\n",
    "plt.xlabel('Gardiner Series')\n",
    "plt.ylabel('Area (pixels²)')\n",
    "plt.xticks(rotation=45)\n",
    "plt.grid(True, which=\"both\", ls=\"--\", c='0.7')\n",
    "plt.savefig(f'{ANALYSIS_PLOTS_DIR}/area_by_series_boxplot.png')\n",
    "plt.show()"
   ]
  },
  {
   "cell_type": "markdown",
   "metadata": {
    "id": "1lv0-6CusHmr"
   },
   "source": [
    "This plot helps understand if certain types of hieroglyphs (e.g., humans, birds, tools) are consistently larger or smaller than others."
   ]
  },
  {
   "cell_type": "markdown",
   "metadata": {
    "id": "u_LBDVd1sHmr"
   },
   "source": [
    "## Summary and Insights for Modeling\n",
    "\n",
    "This analysis provides several key takeaways for the model training strategy:"
   ]
  },
  {
   "cell_type": "code",
   "execution_count": null,
   "metadata": {
    "colab": {
     "base_uri": "https://localhost:8080/"
    },
    "executionInfo": {
     "elapsed": 108,
     "status": "ok",
     "timestamp": 1754590370701,
     "user": {
      "displayName": "Margot Belot",
      "userId": "14937136279205858835"
     },
     "user_tz": -120
    },
    "id": "FW845E0EsHmr",
    "outputId": "960ea776-b4d0-4e57-d08d-16632b358209"
   },
   "outputs": [],
   "source": [
    "report = {\n",
    "    \"bbox_insights\": {\n",
    "        \"area_mean\": float(annotations_df['area'].mean()),\n",
    "        \"area_median\": float(annotations_df['area'].median()),\n",
    "        \"area_std\": float(annotations_df['area'].std()),\n",
    "        \"aspect_ratio_mean\": float(annotations_df['aspect_ratio'].mean()),\n",
    "        \"aspect_ratio_median\": float(annotations_df['aspect_ratio'].median()),\n",
    "        \"notes\": [\"Wide variation in both area and aspect ratio, suggesting multi-scale training and flexible anchor generation will be important.\"]\n",
    "    },\n",
    "    \"spatial_insights\": {\n",
    "        \"distribution_pattern\": \"Hieroglyphs are arranged in clear vertical columns.\",\n",
    "        \"notes\": [\"The non-uniform distribution means random crops might create samples with no annotations. Spatial augmentation should be done carefully.\"]\n",
    "    },\n",
    "    \"class_insights\": {\n",
    "        \"total_classes\": int(annotations_df['category_name'].nunique()),\n",
    "        \"classes_with_one_sample\": int((annotations_df['category_name'].value_counts() == 1).sum()),\n",
    "        \"most_common_class\": annotations_df['category_name'].value_counts().idxmax(),\n",
    "        \"notes\": [\"Extreme class imbalance is a major challenge. Many classes have very few examples. This justifies our stratified split and suggests we might need techniques like class weighting or focal loss during training.\"]\n",
    "    }\n",
    "}\n",
    "\n",
    "# Save the report\n",
    "report_file = f'{ANALYSIS_PLOTS_DIR}/eda_summary_report.json'\n",
    "with open(report_file, 'w') as f:\n",
    "    json.dump(report, f, indent=4)\n",
    "\n",
    "print(\" EXPLORATORY DATA ANALYSIS SUMMARY\")\n",
    "print(\"=\"*50)\n",
    "print(\"Bounding Box Insights:\")\n",
    "print(f\"- Mean Area: {report['bbox_insights']['area_mean']:.2f}, Median Area: {report['bbox_insights']['area_median']:.2f}\")\n",
    "print(f\"- Mean Aspect Ratio: {report['bbox_insights']['aspect_ratio_mean']:.2f}, Median: {report['bbox_insights']['aspect_ratio_median']:.2f}\")\n",
    "print(f\"- Note: {report['bbox_insights']['notes'][0]}\")\n",
    "\n",
    "print(\"Spatial Insights:\")\n",
    "print(f\"- Pattern: {report['spatial_insights']['distribution_pattern']}\")\n",
    "print(f\"- Note: {report['spatial_insights']['notes'][0]}\")\n",
    "\n",
    "print(\"Class Balance Insights:\")\n",
    "print(f\"- Total Classes: {report['class_insights']['total_classes']}\")\n",
    "print(f\"- Single-instance classes: {report['class_insights']['classes_with_one_sample']}\")\n",
    "print(f\"- Note: {report['class_insights']['notes'][0]}\")\n",
    "\n",
    "print(f\"\\n Analysis complete. Report and plots saved to {ANALYSIS_PLOTS_DIR}\")\n",
    "print(\"\\n NEXT STEP: Proceed to 03_model_training.ipynb to train the model.\")"
   ]
  }
 ],
 "metadata": {
  "accelerator": "GPU",
  "colab": {
   "gpuType": "L4",
   "machine_shape": "hm",
   "provenance": []
  },
  "kernelspec": {
   "display_name": "Python 3",
   "name": "python3"
  },
  "language_info": {
   "codemirror_mode": {
    "name": "ipython",
    "version": 3
   },
   "file_extension": ".py",
   "mimetype": "text/x-python",
   "name": "python",
   "nbconvert_exporter": "python",
   "pygments_lexer": "ipython3",
   "version": "3.8.10"
  }
 },
 "nbformat": 4,
 "nbformat_minor": 0
}
